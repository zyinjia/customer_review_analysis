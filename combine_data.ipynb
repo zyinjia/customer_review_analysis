{
 "cells": [
  {
   "cell_type": "code",
   "execution_count": 1,
   "metadata": {
    "collapsed": true,
    "deletable": true,
    "editable": true
   },
   "outputs": [],
   "source": [
    "import os\n",
    "import pandas as pd"
   ]
  },
  {
   "cell_type": "code",
   "execution_count": 2,
   "metadata": {
    "collapsed": true,
    "deletable": true,
    "editable": true
   },
   "outputs": [],
   "source": [
    "basedir = 'scrape_data'"
   ]
  },
  {
   "cell_type": "code",
   "execution_count": 18,
   "metadata": {
    "collapsed": true
   },
   "outputs": [],
   "source": [
    "excludes = ['Router', 'Case', 'case', 'Watch', 'watch']\n",
    "#excludes = ['Speaker', 'speaker']\n",
    "def check_excludes(csv_name):\n",
    "    for item in excludes:\n",
    "        if item in csv_name:\n",
    "            return True"
   ]
  },
  {
   "cell_type": "code",
   "execution_count": 19,
   "metadata": {
    "collapsed": false
   },
   "outputs": [
    {
     "name": "stdout",
     "output_type": "stream",
     "text": [
      "Samsung-Samsung Gear S2 Smartwatch Silver (US Version).csv\n",
      "Samsung-Samsung Gear S2 R730A (AT&T + Wi-Fi) Dust and Water Resistant Smartwatch - Silver (Certified Refurbished).csv\n",
      "LG-LG G W100 Certified Water & Dust Resistant Android Smart Watch - White (Certified Refurbished).csv\n",
      "Huawei-Huawei Honor 5X Flip Cover Case - White.csv\n",
      "Samsung-Samsung Gear S2 R730A (AT&T + Wi-Fi) Smartwatch - Dark Gray (Certified Refurbished).csv\n",
      "Huawei-Android 6.0 Huawei P9 4+64GB Gold and Huawei Watch W1 Silver I Combo 4G LTE Dual SIM Full Active Octa Core 2.5GHz 5.2'' 8+12MP DSFA + Silver Frame Leather Belt Android IOS Bluetooth Smart Wrist Watch.csv\n",
      "Apple-Apple iPhone 5c Case Surprise Color.csv\n",
      "Samsung-Samsung Gear S2 R730V (Verizon + Wi-Fi) Smartwatch - Silver (Certified Refurbished).csv\n",
      "Apple-Apple Watch Series 2 38mm Smartwatch (Gold Aluminum Case, Midnight Blue Sport Band).csv\n",
      "Apple-Apple Watch Series 1 38mm Smartwatch (Gold Aluminum Case, Midnight Blue Sport Band).csv\n",
      "Huawei-Huawei Elegant 4GB Women's Smartwatch - Blue (Certified Refurbished).csv\n",
      "LG-LG Watch Style LG-W270 Smartwatch Android Wear 2.0 (Bluetooth model - International Version) (Silver).csv\n",
      "Apple-Apple Watch 38mm Stainless Steel Case with Brown Modern Buckle (Small) (Certified Refurbished).csv\n",
      "Apple-Apple Watch 42mm Stainless Steel Case with Milanese Loop.csv\n",
      "Samsung-Samsung Gear S2 SM-R720 4GB Wi-Fi, Dust and Water Resistant Smartwatch - Dark Grey (Certified Refurbished).csv\n",
      "Sony-Sony Smartwatch 3 SRW50 for Android 4.3 onwards - Pink.csv\n",
      "Apple-Apple iPhone 6-6s Leather Case - Brown (Certified Refurbished).csv\n",
      "Apple-Apple iPhone 5C Case - Surprise Color (Certified Refurbished).csv\n",
      "Apple-Iphone 5s 16gb Gold - Rhinoshield and Lifeproof Nuud Cases Included.csv\n",
      "Apple-Apple Cell Phone Leather Case for iPhone 6 & 6s - Retail Packaging - Brown.csv\n",
      "Apple-Apple Watch Series 1 42mm Smartwatch (Silver Aluminum Case, White Sport Band).csv\n",
      "Samsung-Samsung Gear S2 Classic Smartwatch w- Rotating Bezel and Leather Strap - Black.csv\n",
      "Huawei-Huawei P8 Lite Case - Light Grey (Certified Refurbished).csv\n",
      "BLU-BLU Studio X8 S530 Armorflex Protective Case Phone Protector - Black.csv\n",
      "Apple-Apple Smart Watch 38MM Space Black Steel Case with Space Black Link Bracelet.csv\n",
      "Apple-Apple Watch Series 1 38mm Smartwatch (Space Gray Aluminum Case with Black Sport Band).csv\n",
      "Huawei-Huawei Honor 5X PC Case - Translucent.csv\n",
      "Apple-Apple iPhone 6S Plus 16GB Space Gray (Unlocked) + Lifeproof FRE Series Waterproof Case for iPhone 6 Plus-6S Plus (Crushed Purple) 6AVE Bundle 45.csv\n",
      "BLU-BLU Dash L2 D250 Armorflex Protective Case Phone Protector - Black.csv\n",
      "Samsung-Samsung Gear S2 R735A Classic (Wi-Fi + AT&T) 3G Smartwatch w- 1.2\" Display - Black Leather (Certified Refurbished).csv\n",
      "Apple-Apple Authentic Leather Case - for iPhone 5, 5s, SE - Red (Certified Refurbished).csv\n",
      "Huawei-Router Unlocked 4G LTE Huawei Cube E5180 Wifi Up to 32 Users International Version Europe Spec.csv\n",
      "Apple-Apple Watch Series 2 38mm Silver Aluminum Case with White Sport Band - MNNW2LL-A.csv\n",
      "Huawei-HUAWEI DR. Strange Box (Featuring Dr. Strange Case + (2) Dr. Strange Comic Books) - White.csv\n",
      "Motorola-Motorola Moto 360 SmartWatch for Android 4.3 or Higher - Grey Leather.csv\n",
      "Apple-Apple Watch Series 1 38mm Smartwatch (Gold Aluminum Case, Concrete Sport Band).csv\n",
      "Huawei-HUAWEI TalkBand B2 Android Bluetooth Fitness Watch + Earpiece - Elite Golden.csv\n",
      "Apple-Apple iPhone 5c Case - Pink (Certified Refurbished).csv\n",
      "Apple-Apple Authentic Leather Case - for iPhone 6 Plus - 6s Plus - Rose Gray (Certified Refurbished).csv\n",
      "ZTE-Hotspot Unlocked ZTE MF65 Router Gsm Mobile 3G up to 5 Wifi 850-2100 Mhz.csv\n",
      "Samsung-Samsung Galaxy Gear S R750W Smart Watch w- Curved Super AMOLED Display (White).csv\n",
      "Apple-Apple iPhone 6S 64GB Space Gray (Unlocked) + Lifeproof N??d Series Waterproof Case for iPhone 6S (Cliff Dive Blue) 6AVE Bundle 135.csv\n",
      "Huawei-Router Hotspot Huawei E55738s 4G LTE Unlocked GSM (LTE in AT&T , Europe, Asia, Middle East and Africa).csv\n",
      "Apple-Apple Authentic Leather Case - for iPhone 6 Plus and 6s Plus - Red (Certified Refurbished).csv\n",
      "Apple-Apple Authentic Leather Case for iPhone 6 and iPhone 6s - Red (Certified Refurbished).csv\n",
      "Apple-Apple OEM Silicone Case - for iPhone 6 Plus - 6s Plus - Orange (New).csv\n",
      "Samsung-Samsung Gear S2 R730A Smartwatch (AT&T) - Black - Dark Gray (CPO).csv\n",
      "Apple-Apple Watch Series 1 42mm Smartwatch (Space Gray Aluminum Case, Black Sport Band).csv\n",
      "Apple-Apple iPhone 6S Plus 128GB Silver (Unlocked) + Lifeproof FRE Series Waterproof Case for iPhone 6 Plus-6S Plus (Crushed Purple) 6AVE Bundle 29.csv\n",
      "Samsung-Samsung Gear S2 Android Smartwatch w- 1.2\" Rotating Bezel Display - White (Certified Refurbished).csv\n",
      "BLU-BLU Energy M E110 Armorflex Protective Case Phone Protector - (BLACK).csv\n",
      "Apple-Apple Watch 38MM Stainless Steel Case, Black Modern Large Buckle.csv\n",
      "Huawei-Huawei Elegant 4GB Women's Smartwatch - White (Certified Refurbished).csv\n",
      "Huawei-Huawei Honor 8 Flipcover Case - Blue.csv\n",
      "Motorola-Motorola Moto 360 - Stone Grey Leather Smart Watch.csv\n",
      "Huawei-Hotspot Unlocked Worldwide Router Gsm Huawei E5251S-2 Mobile 3G H+ Europe 900-2100 mhz 43.2 Mbps up 10 Wifi Any Gsm Carrier.csv\n",
      "Apple-Apple iPhone Original Genuine Leather Case for Apple iPhone 6 PLUS or 6s PLUS (5.5-inch Phone - NOT for 6 or 6s 4.7-inch) - Red (Certified Refurbished).csv\n",
      "Apple-Apple Smart Watch 38MM Stainless Steel Case with White Sport Band.csv\n",
      "Apple-Apple 42MMWatch Stainless Steel Case - Steel-Light Brown Leather Loop.csv\n",
      "Motorola-Motorola Moto 360 Androidwear Smartwatch 1st Generation - 46mm (Certified Refurbished) (Champagne Metal - Slim Fit ).csv\n",
      "Apple-Apple - Apple Watch Series 2 42mm Rose Gold Aluminum Case Pink Sand Sport Band - Rose Gold Aluminum MQ142LL-A.csv\n",
      "Apple-Apple iPhone 6S 16GB Gold (Unlocked) + Lifeproof N??d Series Waterproof Case for iPhone 6S (Cliff Dive Blue) 6AVE Bundle 65.csv\n",
      "Samsung-Samsung Gear S2 SM-R735T Stainless Steel Leather Black Smartwatch for T-Mobile (Certified Refurbished).csv\n"
     ]
    }
   ],
   "source": [
    "for item in os.listdir(basedir):\n",
    "    if check_excludes(item):\n",
    "        print item\n",
    "        "
   ]
  },
  {
   "cell_type": "code",
   "execution_count": 20,
   "metadata": {
    "collapsed": false,
    "deletable": true,
    "editable": true
   },
   "outputs": [],
   "source": [
    "dflist = []\n",
    "for item in os.listdir(basedir):\n",
    "    if not os.path.isdir(os.path.join(basedir, item)):\n",
    "        if check_excludes(item):\n",
    "            continue\n",
    "        else:\n",
    "            dflist.append( pd.read_csv( os.path.join(basedir, item) ) )\n",
    "result = pd.concat( dflist )"
   ]
  },
  {
   "cell_type": "code",
   "execution_count": 21,
   "metadata": {
    "collapsed": false,
    "deletable": true,
    "editable": true
   },
   "outputs": [
    {
     "data": {
      "text/html": [
       "<div>\n",
       "<style>\n",
       "    .dataframe thead tr:only-child th {\n",
       "        text-align: right;\n",
       "    }\n",
       "\n",
       "    .dataframe thead th {\n",
       "        text-align: left;\n",
       "    }\n",
       "\n",
       "    .dataframe tbody tr th {\n",
       "        vertical-align: top;\n",
       "    }\n",
       "</style>\n",
       "<table border=\"1\" class=\"dataframe\">\n",
       "  <thead>\n",
       "    <tr style=\"text-align: right;\">\n",
       "      <th></th>\n",
       "      <th>Unnamed: 0</th>\n",
       "      <th>Brand</th>\n",
       "      <th>Price</th>\n",
       "      <th>Product_name</th>\n",
       "      <th>Rating</th>\n",
       "      <th>Review Votes</th>\n",
       "      <th>Reviews</th>\n",
       "    </tr>\n",
       "  </thead>\n",
       "  <tbody>\n",
       "    <tr>\n",
       "      <th>0</th>\n",
       "      <td>0</td>\n",
       "      <td>Sony</td>\n",
       "      <td>599.99</td>\n",
       "      <td>Sony Xperia V LT25i Unlocked Phone 13MP Camera...</td>\n",
       "      <td>4</td>\n",
       "      <td>26</td>\n",
       "      <td>I got one of these just for $#!*$ &amp; giggles, n...</td>\n",
       "    </tr>\n",
       "    <tr>\n",
       "      <th>1</th>\n",
       "      <td>1</td>\n",
       "      <td>Sony</td>\n",
       "      <td>599.99</td>\n",
       "      <td>Sony Xperia V LT25i Unlocked Phone 13MP Camera...</td>\n",
       "      <td>5</td>\n",
       "      <td>2</td>\n",
       "      <td>My favorite phone! Screw the iphone 6 I hate A...</td>\n",
       "    </tr>\n",
       "    <tr>\n",
       "      <th>2</th>\n",
       "      <td>2</td>\n",
       "      <td>Sony</td>\n",
       "      <td>599.99</td>\n",
       "      <td>Sony Xperia V LT25i Unlocked Phone 13MP Camera...</td>\n",
       "      <td>3</td>\n",
       "      <td>2</td>\n",
       "      <td>It's alright but the outdated software holds y...</td>\n",
       "    </tr>\n",
       "    <tr>\n",
       "      <th>3</th>\n",
       "      <td>3</td>\n",
       "      <td>Sony</td>\n",
       "      <td>599.99</td>\n",
       "      <td>Sony Xperia V LT25i Unlocked Phone 13MP Camera...</td>\n",
       "      <td>3</td>\n",
       "      <td>1</td>\n",
       "      <td>For the first week i loved the phone. had no i...</td>\n",
       "    </tr>\n",
       "    <tr>\n",
       "      <th>4</th>\n",
       "      <td>4</td>\n",
       "      <td>Sony</td>\n",
       "      <td>599.99</td>\n",
       "      <td>Sony Xperia V LT25i Unlocked Phone 13MP Camera...</td>\n",
       "      <td>5</td>\n",
       "      <td>1</td>\n",
       "      <td>This thing is what I needed so im please with ...</td>\n",
       "    </tr>\n",
       "  </tbody>\n",
       "</table>\n",
       "</div>"
      ],
      "text/plain": [
       "  Unnamed: 0 Brand   Price                                       Product_name  \\\n",
       "0          0  Sony  599.99  Sony Xperia V LT25i Unlocked Phone 13MP Camera...   \n",
       "1          1  Sony  599.99  Sony Xperia V LT25i Unlocked Phone 13MP Camera...   \n",
       "2          2  Sony  599.99  Sony Xperia V LT25i Unlocked Phone 13MP Camera...   \n",
       "3          3  Sony  599.99  Sony Xperia V LT25i Unlocked Phone 13MP Camera...   \n",
       "4          4  Sony  599.99  Sony Xperia V LT25i Unlocked Phone 13MP Camera...   \n",
       "\n",
       "  Rating Review Votes                                            Reviews  \n",
       "0      4           26  I got one of these just for $#!*$ & giggles, n...  \n",
       "1      5            2  My favorite phone! Screw the iphone 6 I hate A...  \n",
       "2      3            2  It's alright but the outdated software holds y...  \n",
       "3      3            1  For the first week i loved the phone. had no i...  \n",
       "4      5            1  This thing is what I needed so im please with ...  "
      ]
     },
     "execution_count": 21,
     "metadata": {},
     "output_type": "execute_result"
    }
   ],
   "source": [
    "result.head()"
   ]
  },
  {
   "cell_type": "code",
   "execution_count": 22,
   "metadata": {
    "collapsed": false,
    "deletable": true,
    "editable": true
   },
   "outputs": [
    {
     "data": {
      "text/plain": [
       "(2973880, 7)"
      ]
     },
     "execution_count": 22,
     "metadata": {},
     "output_type": "execute_result"
    }
   ],
   "source": [
    "result.shape"
   ]
  },
  {
   "cell_type": "code",
   "execution_count": 23,
   "metadata": {
    "collapsed": true,
    "deletable": true,
    "editable": true
   },
   "outputs": [],
   "source": [
    "result.to_csv( 'scraped_data.csv', encoding = 'utf-8' )"
   ]
  },
  {
   "cell_type": "code",
   "execution_count": null,
   "metadata": {
    "collapsed": true,
    "deletable": true,
    "editable": true
   },
   "outputs": [],
   "source": []
  }
 ],
 "metadata": {
  "kernelspec": {
   "display_name": "Python 2",
   "language": "python",
   "name": "python2"
  },
  "language_info": {
   "codemirror_mode": {
    "name": "ipython",
    "version": 2
   },
   "file_extension": ".py",
   "mimetype": "text/x-python",
   "name": "python",
   "nbconvert_exporter": "python",
   "pygments_lexer": "ipython2",
   "version": "2.7.13"
  }
 },
 "nbformat": 4,
 "nbformat_minor": 2
}
