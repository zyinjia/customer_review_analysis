{
 "cells": [
  {
   "cell_type": "code",
   "execution_count": 1,
   "metadata": {
    "collapsed": true,
    "deletable": true,
    "editable": true
   },
   "outputs": [],
   "source": [
    "%matplotlib inline\n",
    "import matplotlib\n",
    "import matplotlib.pyplot as plt\n",
    "matplotlib.rcParams['savefig.dpi'] = 144\n",
    "\n",
    "import pandas as pd\n",
    "import numpy as np\n",
    "import warnings\n",
    "warnings.filterwarnings('ignore')\n",
    "\n",
    "import seaborn as sns\n",
    "sns.set( style='white' )\n",
    "\n",
    "import nltk\n",
    "import os"
   ]
  },
  {
   "cell_type": "code",
   "execution_count": 2,
   "metadata": {
    "collapsed": false,
    "deletable": true,
    "editable": true
   },
   "outputs": [
    {
     "data": {
      "text/html": [
       "<div>\n",
       "<style>\n",
       "    .dataframe thead tr:only-child th {\n",
       "        text-align: right;\n",
       "    }\n",
       "\n",
       "    .dataframe thead th {\n",
       "        text-align: left;\n",
       "    }\n",
       "\n",
       "    .dataframe tbody tr th {\n",
       "        vertical-align: top;\n",
       "    }\n",
       "</style>\n",
       "<table border=\"1\" class=\"dataframe\">\n",
       "  <thead>\n",
       "    <tr style=\"text-align: right;\">\n",
       "      <th></th>\n",
       "      <th>Unnamed: 0</th>\n",
       "      <th>Brand</th>\n",
       "      <th>Price</th>\n",
       "      <th>Product_name</th>\n",
       "      <th>Rating</th>\n",
       "      <th>Review Votes</th>\n",
       "      <th>Reviews</th>\n",
       "    </tr>\n",
       "  </thead>\n",
       "  <tbody>\n",
       "    <tr>\n",
       "      <th>0</th>\n",
       "      <td>0</td>\n",
       "      <td>Sony</td>\n",
       "      <td>599.99</td>\n",
       "      <td>Sony Xperia V LT25i Unlocked Phone 13MP Camera...</td>\n",
       "      <td>4</td>\n",
       "      <td>26</td>\n",
       "      <td>I got one of these just for $#!*$ &amp; giggles, n...</td>\n",
       "    </tr>\n",
       "    <tr>\n",
       "      <th>1</th>\n",
       "      <td>1</td>\n",
       "      <td>Sony</td>\n",
       "      <td>599.99</td>\n",
       "      <td>Sony Xperia V LT25i Unlocked Phone 13MP Camera...</td>\n",
       "      <td>5</td>\n",
       "      <td>2</td>\n",
       "      <td>My favorite phone! Screw the iphone 6 I hate A...</td>\n",
       "    </tr>\n",
       "    <tr>\n",
       "      <th>2</th>\n",
       "      <td>2</td>\n",
       "      <td>Sony</td>\n",
       "      <td>599.99</td>\n",
       "      <td>Sony Xperia V LT25i Unlocked Phone 13MP Camera...</td>\n",
       "      <td>3</td>\n",
       "      <td>2</td>\n",
       "      <td>It's alright but the outdated software holds y...</td>\n",
       "    </tr>\n",
       "    <tr>\n",
       "      <th>3</th>\n",
       "      <td>3</td>\n",
       "      <td>Sony</td>\n",
       "      <td>599.99</td>\n",
       "      <td>Sony Xperia V LT25i Unlocked Phone 13MP Camera...</td>\n",
       "      <td>3</td>\n",
       "      <td>1</td>\n",
       "      <td>For the first week i loved the phone. had no i...</td>\n",
       "    </tr>\n",
       "    <tr>\n",
       "      <th>4</th>\n",
       "      <td>4</td>\n",
       "      <td>Sony</td>\n",
       "      <td>599.99</td>\n",
       "      <td>Sony Xperia V LT25i Unlocked Phone 13MP Camera...</td>\n",
       "      <td>5</td>\n",
       "      <td>1</td>\n",
       "      <td>This thing is what I needed so im please with ...</td>\n",
       "    </tr>\n",
       "  </tbody>\n",
       "</table>\n",
       "</div>"
      ],
      "text/plain": [
       "   Unnamed: 0 Brand   Price  \\\n",
       "0           0  Sony  599.99   \n",
       "1           1  Sony  599.99   \n",
       "2           2  Sony  599.99   \n",
       "3           3  Sony  599.99   \n",
       "4           4  Sony  599.99   \n",
       "\n",
       "                                        Product_name  Rating  Review Votes  \\\n",
       "0  Sony Xperia V LT25i Unlocked Phone 13MP Camera...       4            26   \n",
       "1  Sony Xperia V LT25i Unlocked Phone 13MP Camera...       5             2   \n",
       "2  Sony Xperia V LT25i Unlocked Phone 13MP Camera...       3             2   \n",
       "3  Sony Xperia V LT25i Unlocked Phone 13MP Camera...       3             1   \n",
       "4  Sony Xperia V LT25i Unlocked Phone 13MP Camera...       5             1   \n",
       "\n",
       "                                             Reviews  \n",
       "0  I got one of these just for $#!*$ & giggles, n...  \n",
       "1  My favorite phone! Screw the iphone 6 I hate A...  \n",
       "2  It's alright but the outdated software holds y...  \n",
       "3  For the first week i loved the phone. had no i...  \n",
       "4  This thing is what I needed so im please with ...  "
      ]
     },
     "execution_count": 2,
     "metadata": {},
     "output_type": "execute_result"
    }
   ],
   "source": [
    "df = pd.read_csv( 'scraped_data_clean.csv' )\n",
    "df.head()"
   ]
  },
  {
   "cell_type": "code",
   "execution_count": 3,
   "metadata": {
    "collapsed": false,
    "deletable": true,
    "editable": true
   },
   "outputs": [
    {
     "data": {
      "text/html": [
       "<div>\n",
       "<style>\n",
       "    .dataframe thead tr:only-child th {\n",
       "        text-align: right;\n",
       "    }\n",
       "\n",
       "    .dataframe thead th {\n",
       "        text-align: left;\n",
       "    }\n",
       "\n",
       "    .dataframe tbody tr th {\n",
       "        vertical-align: top;\n",
       "    }\n",
       "</style>\n",
       "<table border=\"1\" class=\"dataframe\">\n",
       "  <thead>\n",
       "    <tr style=\"text-align: right;\">\n",
       "      <th></th>\n",
       "      <th>Brand</th>\n",
       "      <th>Price</th>\n",
       "      <th>Product_name</th>\n",
       "      <th>Rating</th>\n",
       "      <th>Review Votes</th>\n",
       "      <th>Reviews</th>\n",
       "    </tr>\n",
       "  </thead>\n",
       "  <tbody>\n",
       "    <tr>\n",
       "      <th>0</th>\n",
       "      <td>Sony</td>\n",
       "      <td>599.99</td>\n",
       "      <td>Sony Xperia V LT25i Unlocked Phone 13MP Camera...</td>\n",
       "      <td>4</td>\n",
       "      <td>26</td>\n",
       "      <td>I got one of these just for $#!*$ &amp; giggles, n...</td>\n",
       "    </tr>\n",
       "    <tr>\n",
       "      <th>1</th>\n",
       "      <td>Sony</td>\n",
       "      <td>599.99</td>\n",
       "      <td>Sony Xperia V LT25i Unlocked Phone 13MP Camera...</td>\n",
       "      <td>5</td>\n",
       "      <td>2</td>\n",
       "      <td>My favorite phone! Screw the iphone 6 I hate A...</td>\n",
       "    </tr>\n",
       "    <tr>\n",
       "      <th>2</th>\n",
       "      <td>Sony</td>\n",
       "      <td>599.99</td>\n",
       "      <td>Sony Xperia V LT25i Unlocked Phone 13MP Camera...</td>\n",
       "      <td>3</td>\n",
       "      <td>2</td>\n",
       "      <td>It's alright but the outdated software holds y...</td>\n",
       "    </tr>\n",
       "    <tr>\n",
       "      <th>3</th>\n",
       "      <td>Sony</td>\n",
       "      <td>599.99</td>\n",
       "      <td>Sony Xperia V LT25i Unlocked Phone 13MP Camera...</td>\n",
       "      <td>3</td>\n",
       "      <td>1</td>\n",
       "      <td>For the first week i loved the phone. had no i...</td>\n",
       "    </tr>\n",
       "    <tr>\n",
       "      <th>4</th>\n",
       "      <td>Sony</td>\n",
       "      <td>599.99</td>\n",
       "      <td>Sony Xperia V LT25i Unlocked Phone 13MP Camera...</td>\n",
       "      <td>5</td>\n",
       "      <td>1</td>\n",
       "      <td>This thing is what I needed so im please with ...</td>\n",
       "    </tr>\n",
       "  </tbody>\n",
       "</table>\n",
       "</div>"
      ],
      "text/plain": [
       "  Brand   Price                                       Product_name  Rating  \\\n",
       "0  Sony  599.99  Sony Xperia V LT25i Unlocked Phone 13MP Camera...       4   \n",
       "1  Sony  599.99  Sony Xperia V LT25i Unlocked Phone 13MP Camera...       5   \n",
       "2  Sony  599.99  Sony Xperia V LT25i Unlocked Phone 13MP Camera...       3   \n",
       "3  Sony  599.99  Sony Xperia V LT25i Unlocked Phone 13MP Camera...       3   \n",
       "4  Sony  599.99  Sony Xperia V LT25i Unlocked Phone 13MP Camera...       5   \n",
       "\n",
       "   Review Votes                                            Reviews  \n",
       "0            26  I got one of these just for $#!*$ & giggles, n...  \n",
       "1             2  My favorite phone! Screw the iphone 6 I hate A...  \n",
       "2             2  It's alright but the outdated software holds y...  \n",
       "3             1  For the first week i loved the phone. had no i...  \n",
       "4             1  This thing is what I needed so im please with ...  "
      ]
     },
     "execution_count": 3,
     "metadata": {},
     "output_type": "execute_result"
    }
   ],
   "source": [
    "df = df.drop('Unnamed: 0', 1)\n",
    "df.head()"
   ]
  },
  {
   "cell_type": "code",
   "execution_count": 4,
   "metadata": {
    "collapsed": false,
    "deletable": true,
    "editable": true
   },
   "outputs": [
    {
     "data": {
      "text/html": [
       "<div>\n",
       "<style>\n",
       "    .dataframe thead tr:only-child th {\n",
       "        text-align: right;\n",
       "    }\n",
       "\n",
       "    .dataframe thead th {\n",
       "        text-align: left;\n",
       "    }\n",
       "\n",
       "    .dataframe tbody tr th {\n",
       "        vertical-align: top;\n",
       "    }\n",
       "</style>\n",
       "<table border=\"1\" class=\"dataframe\">\n",
       "  <thead>\n",
       "    <tr style=\"text-align: right;\">\n",
       "      <th></th>\n",
       "      <th>Brand</th>\n",
       "      <th>Price</th>\n",
       "      <th>Product_name</th>\n",
       "      <th>Rating</th>\n",
       "      <th>Review Votes</th>\n",
       "      <th>Reviews</th>\n",
       "      <th>Reviews_bw</th>\n",
       "    </tr>\n",
       "  </thead>\n",
       "  <tbody>\n",
       "    <tr>\n",
       "      <th>0</th>\n",
       "      <td>Sony</td>\n",
       "      <td>599.99</td>\n",
       "      <td>Sony Xperia V LT25i Unlocked Phone 13MP Camera...</td>\n",
       "      <td>4</td>\n",
       "      <td>26</td>\n",
       "      <td>I got one of these just for $#!*$ &amp; giggles, n...</td>\n",
       "      <td></td>\n",
       "    </tr>\n",
       "    <tr>\n",
       "      <th>1</th>\n",
       "      <td>Sony</td>\n",
       "      <td>599.99</td>\n",
       "      <td>Sony Xperia V LT25i Unlocked Phone 13MP Camera...</td>\n",
       "      <td>5</td>\n",
       "      <td>2</td>\n",
       "      <td>My favorite phone! Screw the iphone 6 I hate A...</td>\n",
       "      <td></td>\n",
       "    </tr>\n",
       "    <tr>\n",
       "      <th>2</th>\n",
       "      <td>Sony</td>\n",
       "      <td>599.99</td>\n",
       "      <td>Sony Xperia V LT25i Unlocked Phone 13MP Camera...</td>\n",
       "      <td>3</td>\n",
       "      <td>2</td>\n",
       "      <td>It's alright but the outdated software holds y...</td>\n",
       "      <td></td>\n",
       "    </tr>\n",
       "    <tr>\n",
       "      <th>3</th>\n",
       "      <td>Sony</td>\n",
       "      <td>599.99</td>\n",
       "      <td>Sony Xperia V LT25i Unlocked Phone 13MP Camera...</td>\n",
       "      <td>3</td>\n",
       "      <td>1</td>\n",
       "      <td>For the first week i loved the phone. had no i...</td>\n",
       "      <td></td>\n",
       "    </tr>\n",
       "    <tr>\n",
       "      <th>4</th>\n",
       "      <td>Sony</td>\n",
       "      <td>599.99</td>\n",
       "      <td>Sony Xperia V LT25i Unlocked Phone 13MP Camera...</td>\n",
       "      <td>5</td>\n",
       "      <td>1</td>\n",
       "      <td>This thing is what I needed so im please with ...</td>\n",
       "      <td></td>\n",
       "    </tr>\n",
       "  </tbody>\n",
       "</table>\n",
       "</div>"
      ],
      "text/plain": [
       "  Brand   Price                                       Product_name  Rating  \\\n",
       "0  Sony  599.99  Sony Xperia V LT25i Unlocked Phone 13MP Camera...       4   \n",
       "1  Sony  599.99  Sony Xperia V LT25i Unlocked Phone 13MP Camera...       5   \n",
       "2  Sony  599.99  Sony Xperia V LT25i Unlocked Phone 13MP Camera...       3   \n",
       "3  Sony  599.99  Sony Xperia V LT25i Unlocked Phone 13MP Camera...       3   \n",
       "4  Sony  599.99  Sony Xperia V LT25i Unlocked Phone 13MP Camera...       5   \n",
       "\n",
       "   Review Votes                                            Reviews Reviews_bw  \n",
       "0            26  I got one of these just for $#!*$ & giggles, n...             \n",
       "1             2  My favorite phone! Screw the iphone 6 I hate A...             \n",
       "2             2  It's alright but the outdated software holds y...             \n",
       "3             1  For the first week i loved the phone. had no i...             \n",
       "4             1  This thing is what I needed so im please with ...             "
      ]
     },
     "execution_count": 4,
     "metadata": {},
     "output_type": "execute_result"
    }
   ],
   "source": [
    "df.loc[:, 'Reviews_bw'] = ''\n",
    "df.head()"
   ]
  },
  {
   "cell_type": "code",
   "execution_count": 5,
   "metadata": {
    "collapsed": false,
    "deletable": true,
    "editable": true
   },
   "outputs": [
    {
     "data": {
      "text/plain": [
       "'It is not a new version. In the page it says, new, but the phone is refurbished, not new, in my case backpanel is opened (probably for battery replace)'"
      ]
     },
     "execution_count": 5,
     "metadata": {},
     "output_type": "execute_result"
    }
   ],
   "source": [
    "df.Reviews[5000]"
   ]
  },
  {
   "cell_type": "code",
   "execution_count": 5,
   "metadata": {
    "collapsed": false,
    "deletable": true,
    "editable": true
   },
   "outputs": [
    {
     "data": {
      "text/html": [
       "<div>\n",
       "<style>\n",
       "    .dataframe thead tr:only-child th {\n",
       "        text-align: right;\n",
       "    }\n",
       "\n",
       "    .dataframe thead th {\n",
       "        text-align: left;\n",
       "    }\n",
       "\n",
       "    .dataframe tbody tr th {\n",
       "        vertical-align: top;\n",
       "    }\n",
       "</style>\n",
       "<table border=\"1\" class=\"dataframe\">\n",
       "  <thead>\n",
       "    <tr style=\"text-align: right;\">\n",
       "      <th></th>\n",
       "      <th>Brand</th>\n",
       "      <th>Price</th>\n",
       "      <th>Product_name</th>\n",
       "      <th>Rating</th>\n",
       "      <th>Review Votes</th>\n",
       "      <th>Reviews</th>\n",
       "    </tr>\n",
       "  </thead>\n",
       "  <tbody>\n",
       "    <tr>\n",
       "      <th>0</th>\n",
       "      <td>Sony</td>\n",
       "      <td>0.0</td>\n",
       "      <td>SONY XPERIA Z3 D6603 LTE 16GB 5.2\" GSM Unlocke...</td>\n",
       "      <td>1</td>\n",
       "      <td>0</td>\n",
       "      <td>not new version page says new phone refurbishe...</td>\n",
       "    </tr>\n",
       "    <tr>\n",
       "      <th>1</th>\n",
       "      <td>Sony</td>\n",
       "      <td>0.0</td>\n",
       "      <td>SONY XPERIA Z3 D6603 LTE 16GB 5.2\" GSM Unlocke...</td>\n",
       "      <td>5</td>\n",
       "      <td>0</td>\n",
       "      <td>first smartphone two years great battery life ...</td>\n",
       "    </tr>\n",
       "    <tr>\n",
       "      <th>2</th>\n",
       "      <td>Sony</td>\n",
       "      <td>0.0</td>\n",
       "      <td>SONY XPERIA Z3 D6603 LTE 16GB 5.2\" GSM Unlocke...</td>\n",
       "      <td>5</td>\n",
       "      <td>0</td>\n",
       "      <td>snappy performance great battery life great ca...</td>\n",
       "    </tr>\n",
       "    <tr>\n",
       "      <th>3</th>\n",
       "      <td>Sony</td>\n",
       "      <td>0.0</td>\n",
       "      <td>SONY XPERIA Z3 D6603 LTE 16GB 5.2\" GSM Unlocke...</td>\n",
       "      <td>1</td>\n",
       "      <td>1</td>\n",
       "      <td>touch screen not work terrible never buy seller</td>\n",
       "    </tr>\n",
       "    <tr>\n",
       "      <th>4</th>\n",
       "      <td>Sony</td>\n",
       "      <td>0.0</td>\n",
       "      <td>SONY XPERIA Z3 D6603 LTE 16GB 5.2\" GSM Unlocke...</td>\n",
       "      <td>1</td>\n",
       "      <td>0</td>\n",
       "      <td>good afternoon annoyed cell alone run two mont...</td>\n",
       "    </tr>\n",
       "  </tbody>\n",
       "</table>\n",
       "</div>"
      ],
      "text/plain": [
       "  Brand  Price                                       Product_name  Rating  \\\n",
       "0  Sony    0.0  SONY XPERIA Z3 D6603 LTE 16GB 5.2\" GSM Unlocke...       1   \n",
       "1  Sony    0.0  SONY XPERIA Z3 D6603 LTE 16GB 5.2\" GSM Unlocke...       5   \n",
       "2  Sony    0.0  SONY XPERIA Z3 D6603 LTE 16GB 5.2\" GSM Unlocke...       5   \n",
       "3  Sony    0.0  SONY XPERIA Z3 D6603 LTE 16GB 5.2\" GSM Unlocke...       1   \n",
       "4  Sony    0.0  SONY XPERIA Z3 D6603 LTE 16GB 5.2\" GSM Unlocke...       1   \n",
       "\n",
       "   Review Votes                                            Reviews  \n",
       "0             0  not new version page says new phone refurbishe...  \n",
       "1             0  first smartphone two years great battery life ...  \n",
       "2             0  snappy performance great battery life great ca...  \n",
       "3             1    touch screen not work terrible never buy seller  \n",
       "4             0  good afternoon annoyed cell alone run two mont...  "
      ]
     },
     "execution_count": 5,
     "metadata": {},
     "output_type": "execute_result"
    }
   ],
   "source": [
    "df_test = pd.read_csv( 'data_bagofwords/2.csv' )\n",
    "df_test = df_test.drop('Unnamed: 0', 1)\n",
    "df_test.head()"
   ]
  },
  {
   "cell_type": "code",
   "execution_count": 6,
   "metadata": {
    "collapsed": false,
    "deletable": true,
    "editable": true
   },
   "outputs": [],
   "source": [
    "def add_reviews_bw():\n",
    "    for i in range(1,163):\n",
    "        print i\n",
    "        df_test = pd.read_csv( 'data_bagofwords/%d.csv' %i )\n",
    "        for j in range(5000):\n",
    "            df.Reviews_bw[j+5000*(i-1)] = df_test.Reviews[j]"
   ]
  },
  {
   "cell_type": "code",
   "execution_count": null,
   "metadata": {
    "collapsed": false,
    "deletable": true,
    "editable": true
   },
   "outputs": [
    {
     "name": "stdout",
     "output_type": "stream",
     "text": [
      "1\n"
     ]
    }
   ],
   "source": [
    "add_reviews_bw()"
   ]
  },
  {
   "cell_type": "code",
   "execution_count": 6,
   "metadata": {
    "collapsed": true,
    "deletable": true,
    "editable": true
   },
   "outputs": [],
   "source": [
    "from nltk.corpus import stopwords # Import the stop word list\n",
    "import re\n",
    "stopwords =  stopwords.words(\"english\")\n",
    "stopwds = set(stopwords)\n",
    "stopwds.discard('no')\n",
    "stopwds.discard('not')\n",
    "stopwds.discard('nor')\n",
    "\n",
    "def clean_text(text):\n",
    "    text = text.decode('utf8').lower()\n",
    "    if '1080' in text:\n",
    "        words = ['1080']\n",
    "    else:\n",
    "        words = []\n",
    "    text_letter_only = re.sub(\"[^a-zA-Z]\", \" \", text)\n",
    "    words.extend( text_letter_only.split() )\n",
    "    meaningful_words = [w for w in words if not w in stopwds]\n",
    "    return \" \".join(meaningful_words)"
   ]
  },
  {
   "cell_type": "code",
   "execution_count": 7,
   "metadata": {
    "collapsed": false,
    "deletable": true,
    "editable": true
   },
   "outputs": [
    {
     "data": {
      "text/plain": [
       "2973463"
      ]
     },
     "execution_count": 7,
     "metadata": {},
     "output_type": "execute_result"
    }
   ],
   "source": [
    "len(df.index)"
   ]
  },
  {
   "cell_type": "code",
   "execution_count": 10,
   "metadata": {
    "collapsed": false,
    "deletable": true,
    "editable": true
   },
   "outputs": [
    {
     "data": {
      "text/html": [
       "<div>\n",
       "<style>\n",
       "    .dataframe thead tr:only-child th {\n",
       "        text-align: right;\n",
       "    }\n",
       "\n",
       "    .dataframe thead th {\n",
       "        text-align: left;\n",
       "    }\n",
       "\n",
       "    .dataframe tbody tr th {\n",
       "        vertical-align: top;\n",
       "    }\n",
       "</style>\n",
       "<table border=\"1\" class=\"dataframe\">\n",
       "  <thead>\n",
       "    <tr style=\"text-align: right;\">\n",
       "      <th></th>\n",
       "      <th>Brand</th>\n",
       "      <th>Price</th>\n",
       "      <th>Product_name</th>\n",
       "      <th>Rating</th>\n",
       "      <th>Review Votes</th>\n",
       "      <th>Reviews</th>\n",
       "      <th>Reviews_bw</th>\n",
       "    </tr>\n",
       "  </thead>\n",
       "  <tbody>\n",
       "    <tr>\n",
       "      <th>0</th>\n",
       "      <td>Sony</td>\n",
       "      <td>599.99</td>\n",
       "      <td>Sony Xperia V LT25i Unlocked Phone 13MP Camera...</td>\n",
       "      <td>4</td>\n",
       "      <td>26</td>\n",
       "      <td>I got one of these just for $#!*$ &amp; giggles, n...</td>\n",
       "      <td></td>\n",
       "    </tr>\n",
       "  </tbody>\n",
       "</table>\n",
       "</div>"
      ],
      "text/plain": [
       "  Brand   Price                                       Product_name  Rating  \\\n",
       "0  Sony  599.99  Sony Xperia V LT25i Unlocked Phone 13MP Camera...       4   \n",
       "\n",
       "   Review Votes                                            Reviews Reviews_bw  \n",
       "0            26  I got one of these just for $#!*$ & giggles, n...             "
      ]
     },
     "execution_count": 10,
     "metadata": {},
     "output_type": "execute_result"
    }
   ],
   "source": [
    "df[:1]"
   ]
  },
  {
   "cell_type": "code",
   "execution_count": null,
   "metadata": {
    "collapsed": false,
    "deletable": true,
    "editable": true
   },
   "outputs": [
    {
     "name": "stdout",
     "output_type": "stream",
     "text": [
      "5000 in progress...\n",
      "10000 in progress...\n",
      "15000 in progress...\n"
     ]
    }
   ],
   "source": [
    "for i in df.index:\n",
    "    df.Reviews_bw[i] = clean_text(df.Reviews[i])\n",
    "    if i>0 and i%5000==0:\n",
    "        print '%d in progress...' %i\n",
    "        df[i-5000:i].to_csv( './data_bagofwords/%d.csv' %(i/5000), encoding = 'utf-8' )\n",
    "df[(i/5000)*5000:i+1].to_csv( './data_bagofwords/%d.csv' %(i/5000), encoding = 'utf-8' )"
   ]
  },
  {
   "cell_type": "code",
   "execution_count": null,
   "metadata": {
    "collapsed": true,
    "deletable": true,
    "editable": true
   },
   "outputs": [],
   "source": []
  }
 ],
 "metadata": {
  "kernelspec": {
   "display_name": "Python 2",
   "language": "python",
   "name": "python2"
  },
  "language_info": {
   "codemirror_mode": {
    "name": "ipython",
    "version": 2
   },
   "file_extension": ".py",
   "mimetype": "text/x-python",
   "name": "python",
   "nbconvert_exporter": "python",
   "pygments_lexer": "ipython2",
   "version": "2.7.13"
  }
 },
 "nbformat": 4,
 "nbformat_minor": 2
}
