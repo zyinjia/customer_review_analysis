{
 "cells": [
  {
   "cell_type": "code",
   "execution_count": 1,
   "metadata": {
    "collapsed": true,
    "deletable": true,
    "editable": true
   },
   "outputs": [],
   "source": [
    "%matplotlib inline\n",
    "import matplotlib\n",
    "import numpy as np\n",
    "import seaborn as sns\n",
    "matplotlib.rcParams['savefig.dpi'] = 144"
   ]
  },
  {
   "cell_type": "code",
   "execution_count": 2,
   "metadata": {
    "collapsed": false,
    "deletable": true,
    "editable": true
   },
   "outputs": [],
   "source": [
    "import requests\n",
    "from bs4 import BeautifulSoup"
   ]
  },
  {
   "cell_type": "code",
   "execution_count": 3,
   "metadata": {
    "collapsed": true,
    "deletable": true,
    "editable": true
   },
   "outputs": [],
   "source": [
    "from retrying import retry\n",
    "@retry\n",
    "def get_brand_links():\n",
    "    url = \"https://www.amazon.com/unlocked-cell-phones/b/ref=sv_cps_1?ie=UTF8&node=2407749011\"\n",
    "    response = requests.get(url)\n",
    "    soup = BeautifulSoup(response.text, 'lxml')\n",
    "    links = soup.find_all('div', attrs={\"class\":\"acsUxWidget\"})[2].find_all('a')\n",
    "    return links"
   ]
  },
  {
   "cell_type": "code",
   "execution_count": 4,
   "metadata": {
    "collapsed": true,
    "deletable": true,
    "editable": true
   },
   "outputs": [],
   "source": [
    "brand_names = ['Apple',\n",
    "               'Asus',\n",
    "               'Samsung',\n",
    "               'LG',\n",
    "               'Alcatel',\n",
    "               'Huawei',\n",
    "               'BLU',\n",
    "               'Motorola',\n",
    "               'Sony',\n",
    "               'ZTE']"
   ]
  },
  {
   "cell_type": "code",
   "execution_count": 5,
   "metadata": {
    "collapsed": false,
    "deletable": true,
    "editable": true
   },
   "outputs": [
    {
     "name": "stdout",
     "output_type": "stream",
     "text": [
      "10\n",
      "https://www.amazon.com/gp/search/ref=sr_nr_p_89_3/ref=s9_acss_bw_cg_unlocked_2a1_w?fst=as%3Aoff&rh=n%3A2335752011%2Cn%3A!2335753011%2Cn%3A7072561011%2Cn%3A2407749011%2Cp_89%3AApple&bbn=2407749011&ie=UTF8&qid=1465944831&pf_rd_m=ATVPDKIKX0DER&pf_rd_s=merchandised-search-5&pf_rd_r=GG4DMPJ9XWER1NK4RA4E&pf_rd_t=101&pf_rd_p=8898c72a-7bc9-464f-9378-4280fb1a8e97&pf_rd_i=2407749011\n",
      "https://www.amazon.com/s/ref=s9_acss_bw_cg_unlocked_2b1_w?fst=as%3Aoff&rh=n%3A2335752011%2Cn%3A!2335753011%2Cn%3A7072561011%2Cn%3A2407749011%2Cp_89%3AAsus&bbn=2407749011&ie=UTF8&qid=1465944771&rnid=2528832011&pf_rd_m=ATVPDKIKX0DER&pf_rd_s=merchandised-search-5&pf_rd_r=GG4DMPJ9XWER1NK4RA4E&pf_rd_t=101&pf_rd_p=8898c72a-7bc9-464f-9378-4280fb1a8e97&pf_rd_i=2407749011\n",
      "https://www.amazon.com/s/ref=s9_acss_bw_cg_unlocked_2c1_w?fst=as%3Aoff&rh=n%3A2335752011%2Cn%3A!2335753011%2Cn%3A7072561011%2Cn%3A2407749011%2Cp_89%3ASamsung&bbn=2407749011&ie=UTF8&qid=1465944803&pf_rd_m=ATVPDKIKX0DER&pf_rd_s=merchandised-search-5&pf_rd_r=GG4DMPJ9XWER1NK4RA4E&pf_rd_t=101&pf_rd_p=8898c72a-7bc9-464f-9378-4280fb1a8e97&pf_rd_i=2407749011\n",
      "https://www.amazon.com/s/ref=s9_acss_bw_cg_unlocked_2d1_w?fst=as%3Aoff&rh=n%3A2335752011%2Cn%3A!2335753011%2Cn%3A7072561011%2Cn%3A2407749011%2Cp_89%3ALG&bbn=2407749011&ie=UTF8&qid=1465944674&rnid=2528832011&pf_rd_m=ATVPDKIKX0DER&pf_rd_s=merchandised-search-5&pf_rd_r=GG4DMPJ9XWER1NK4RA4E&pf_rd_t=101&pf_rd_p=8898c72a-7bc9-464f-9378-4280fb1a8e97&pf_rd_i=2407749011\n",
      "https://www.amazon.com/s/ref=s9_acss_bw_cg_unlocked_2e1_w?fst=as%3Aoff&rh=n%3A2335752011%2Cn%3A%212335753011%2Cn%3A7072561011%2Cn%3A2407749011%2Cp_89%3AAlcatel&bbn=2407749011&ie=UTF8&qid=1478635071&rnid=2528832011&pf_rd_m=ATVPDKIKX0DER&pf_rd_s=merchandised-search-5&pf_rd_r=GG4DMPJ9XWER1NK4RA4E&pf_rd_t=101&pf_rd_p=8898c72a-7bc9-464f-9378-4280fb1a8e97&pf_rd_i=2407749011\n",
      "https://www.amazon.com/gp/search/ref=sr_nr_p_89_1/ref=s9_acss_bw_cg_unlocked_3a1_w?fst=as%3Aoff&rh=n%3A2335752011%2Cn%3A!2335753011%2Cn%3A7072561011%2Cn%3A2407749011%2Cp_89%3AHuawei&bbn=2407749011&ie=UTF8&qid=1465945693&pf_rd_m=ATVPDKIKX0DER&pf_rd_s=merchandised-search-5&pf_rd_r=GG4DMPJ9XWER1NK4RA4E&pf_rd_t=101&pf_rd_p=8898c72a-7bc9-464f-9378-4280fb1a8e97&pf_rd_i=2407749011\n",
      "https://www.amazon.com/gp/search/ref=sr_nr_p_89_4/ref=s9_acss_bw_cg_unlocked_3b1_w?fst=as%3Aoff&rh=n%3A2335752011%2Cn%3A!2335753011%2Cn%3A7072561011%2Cn%3A2407749011%2Cp_89%3ABLU&bbn=2407749011&ie=UTF8&qid=1465944958&pf_rd_m=ATVPDKIKX0DER&pf_rd_s=merchandised-search-5&pf_rd_r=GG4DMPJ9XWER1NK4RA4E&pf_rd_t=101&pf_rd_p=8898c72a-7bc9-464f-9378-4280fb1a8e97&pf_rd_i=2407749011\n",
      "https://www.amazon.com/s/ref=s9_acss_bw_cg_unlocked_3c1_w?fst=as%3Aoff&rh=n%3A2335752011%2Cn%3A!2335753011%2Cn%3A7072561011%2Cn%3A2407749011%2Cp_89%3AMotorola&bbn=2407749011&ie=UTF8&qid=1465944985&pf_rd_m=ATVPDKIKX0DER&pf_rd_s=merchandised-search-5&pf_rd_r=GG4DMPJ9XWER1NK4RA4E&pf_rd_t=101&pf_rd_p=8898c72a-7bc9-464f-9378-4280fb1a8e97&pf_rd_i=2407749011\n",
      "https://www.amazon.com/s/ref=s9_acss_bw_cg_unlocked_3d1_w?fst=as%3Aoff&rh=n%3A2335752011%2Cn%3A!2335753011%2Cn%3A7072561011%2Cn%3A2407749011%2Cp_89%3ASony&bbn=2407749011&ie=UTF8&qid=1465945013&rnid=2528832011&pf_rd_m=ATVPDKIKX0DER&pf_rd_s=merchandised-search-5&pf_rd_r=GG4DMPJ9XWER1NK4RA4E&pf_rd_t=101&pf_rd_p=8898c72a-7bc9-464f-9378-4280fb1a8e97&pf_rd_i=2407749011\n",
      "https://www.amazon.com/s/ref=s9_acss_bw_cg_unlocked_3e1_w?fst=as%3Aoff&rh=n%3A2335752011%2Cn%3A%212335753011%2Cn%3A7072561011%2Cn%3A2407749011%2Cp_89%3AZTE&bbn=2407749011&ie=UTF8&qid=1478635206&rnid=2528832011&pf_rd_m=ATVPDKIKX0DER&pf_rd_s=merchandised-search-5&pf_rd_r=GG4DMPJ9XWER1NK4RA4E&pf_rd_t=101&pf_rd_p=8898c72a-7bc9-464f-9378-4280fb1a8e97&pf_rd_i=2407749011\n"
     ]
    }
   ],
   "source": [
    "brand_links = get_brand_links()\n",
    "print len(brand_links)\n",
    "for link in brand_links:\n",
    "    print link['href']"
   ]
  },
  {
   "cell_type": "code",
   "execution_count": 44,
   "metadata": {
    "collapsed": false,
    "deletable": true,
    "editable": true
   },
   "outputs": [],
   "source": [
    "def get_nextpage(url):\n",
    "    response = requests.get(url)\n",
    "    soup = BeautifulSoup(response.text, 'lxml')\n",
    "    next_url = soup.find( 'a', attrs={'title':'Next Page', 'class':'pagnNext'} )\n",
    "    return next_url"
   ]
  },
  {
   "cell_type": "code",
   "execution_count": 46,
   "metadata": {
    "collapsed": false,
    "deletable": true,
    "editable": true
   },
   "outputs": [],
   "source": [
    "url = 'https://www.amazon.com/s/ref=sr_pg_21?fst=as%3Aoff&rh=n%3A2335752011%2Cn%3A%212335753011%2Cn%3A7072561011%2Cn%3A2407749011%2Cp_89%3AApple&page=21&bbn=2407749011&ie=UTF8&qid=1498975891'\n",
    "next_url =  get_nextpage(url)\n",
    "if next_url:\n",
    "    print 0"
   ]
  },
  {
   "cell_type": "code",
   "execution_count": 11,
   "metadata": {
    "collapsed": true,
    "deletable": true,
    "editable": true
   },
   "outputs": [],
   "source": [
    "from retrying import retry\n",
    "@retry\n",
    "def get_phone_link(link):\n",
    "    response = requests.get(link)\n",
    "    soup = BeautifulSoup(response.text, 'lxml')\n",
    "    links = soup.find('ul', {'id':'s-results-list-atf'}).find_all('a', attrs={'class':'a-link-normal s-access-detail-page s-color-twister-title-link a-text-normal'})\n",
    "    return links"
   ]
  },
  {
   "cell_type": "code",
   "execution_count": 7,
   "metadata": {
    "collapsed": false,
    "deletable": true,
    "editable": true
   },
   "outputs": [],
   "source": [
    "links = get_phone_link(brand_links[0]['href'])"
   ]
  },
  {
   "cell_type": "code",
   "execution_count": 8,
   "metadata": {
    "collapsed": false,
    "deletable": true,
    "editable": true
   },
   "outputs": [
    {
     "name": "stdout",
     "output_type": "stream",
     "text": [
      "24\n",
      "https://www.amazon.com/Apple-Unlocked-Smartphone-Certified-Refurbished/dp/B00YD547Q6\n",
      "Apple iPhone 6 16GB Factory Unlocked GSM 4G LTE Smartphone, Space Grey (Certified Refurbished)\n"
     ]
    }
   ],
   "source": [
    "print len(links)\n",
    "print links[0]['href']\n",
    "print links[0]['title']"
   ]
  },
  {
   "cell_type": "code",
   "execution_count": 9,
   "metadata": {
    "collapsed": true,
    "deletable": true,
    "editable": true
   },
   "outputs": [],
   "source": [
    "def check_length(lists):\n",
    "    l = len(lists[0])\n",
    "    for alist in lists:\n",
    "        if len(alist) != l:\n",
    "            return False\n",
    "    return True"
   ]
  },
  {
   "cell_type": "code",
   "execution_count": 10,
   "metadata": {
    "collapsed": false,
    "deletable": true,
    "editable": true
   },
   "outputs": [],
   "source": [
    "from retrying import retry\n",
    "@retry\n",
    "def get_reviews(url):\n",
    "    response = requests.get(url)\n",
    "    soup = BeautifulSoup(response.text, 'lxml')\n",
    "    reviews = soup.find_all('div', attrs={'class':'a-row review-data'})\n",
    "    \n",
    "    stars = soup.find('div', {'id':'cm_cr-review_list'}).find_all('i', attrs={'data-hook':'review-star-rating'})\n",
    "    \n",
    "    votes_parent = soup.find_all('span', attrs={'class':'cr-vote-buttons cr-vote-component'})    \n",
    "    votes = []\n",
    "    for item in votes_parent:\n",
    "        vote = item.find('span', attrs={'data-hook':'helpful-vote-statement'})\n",
    "        try:\n",
    "            if 'One' in vote.text.split():\n",
    "                votes.append(1)\n",
    "            else:\n",
    "                votes.append( int(vote.text.split()[0]) )\n",
    "        except:\n",
    "            votes.append(0)\n",
    "    \n",
    "    price = soup.find('span', {'class':'a-color-price arp-price'}).text\n",
    "    if check_length([reviews, stars, votes]):\n",
    "        return [tag.text for tag in reviews], \\\n",
    "               [int(tag.text.split('.')[0]) for tag in stars], \\\n",
    "               votes, \\\n",
    "               [float(price.strip('$'))]*len(reviews)\n",
    "    raise Exception('Lengths do not match in reviews, stars and votes!')"
   ]
  },
  {
   "cell_type": "code",
   "execution_count": 11,
   "metadata": {
    "collapsed": true,
    "deletable": true,
    "editable": true
   },
   "outputs": [],
   "source": [
    "from retrying import retry\n",
    "@retry\n",
    "def get_page_number(url):\n",
    "    response = requests.get(url)\n",
    "    soup = BeautifulSoup(response.text, 'lxml')\n",
    "    page_button = soup.find_all('li', attrs={'data-reftag':'cm_cr_arp_d_paging_btm', 'class':'page-button'})\n",
    "    page_num = page_button[-1].find('a')\n",
    "    return int(page_num.text)"
   ]
  },
  {
   "cell_type": "code",
   "execution_count": 12,
   "metadata": {
    "collapsed": false,
    "deletable": true,
    "editable": true
   },
   "outputs": [
    {
     "name": "stdout",
     "output_type": "stream",
     "text": [
      "35\n"
     ]
    }
   ],
   "source": [
    "testurl = \"https://www.amazon.com/Apple-iPhone-Unlocked-Phone-128/product-reviews/B01M1EXQY4/ref=cm_cr_getr_d_paging_btm_1?ie=UTF8&reviewerType=avp_only_reviews&pageNumber=1\"\n",
    "print get_page_number( testurl )"
   ]
  },
  {
   "cell_type": "code",
   "execution_count": 13,
   "metadata": {
    "collapsed": false,
    "deletable": true,
    "editable": true
   },
   "outputs": [
    {
     "name": "stdout",
     "output_type": "stream",
     "text": [
      "30\n",
      "30\n",
      "30\n",
      "My wife loves her new phone. Came in perfect condition, the only thing is is that she needed a SIM card before she could activate the phone (mine didn't but we bought from two different sellers).\n",
      "288.0\n"
     ]
    }
   ],
   "source": [
    "#urlbase = \"https://www.amazon.com/Apple-iPhone-Unlocked-Phone-128/product-reviews/B01M1EXQY4\"\n",
    "urlbase = links[0]['href'].replace('/dp/', '/product-reviews/')\n",
    "#print urlbase\n",
    "\n",
    "all_reviews = []\n",
    "all_stars = []\n",
    "all_votes = []\n",
    "all_prices = []\n",
    "for i in range(1,4):\n",
    "    urladd = \"/ref=cm_cr_getr_d_paging_btm_%d?ie=UTF8&reviewerType=avp_only_reviews&pageNumber=%d\" %(i, i)\n",
    "    #urladd = \"ref=cm_cr_getr_d_paging_btm_%d?&pageNumber=%d\" %(i, i)\"\n",
    "    reviews, stars, votes, prices = get_reviews( urlbase+urladd )\n",
    "    all_reviews.extend(reviews)\n",
    "    all_stars.extend(stars)\n",
    "    all_votes.extend(votes)\n",
    "    all_prices.extend(prices)\n",
    "print len(all_reviews)\n",
    "print len(all_stars)\n",
    "print len(all_votes)\n",
    "#print all_votes\n",
    "print all_reviews[-1]\n",
    "#for s in all_stars:\n",
    "#    print s\n",
    "print all_prices[1]\n"
   ]
  },
  {
   "cell_type": "code",
   "execution_count": 14,
   "metadata": {
    "collapsed": false,
    "deletable": true,
    "editable": true
   },
   "outputs": [
    {
     "data": {
      "text/html": [
       "<div>\n",
       "<style>\n",
       "    .dataframe thead tr:only-child th {\n",
       "        text-align: right;\n",
       "    }\n",
       "\n",
       "    .dataframe thead th {\n",
       "        text-align: left;\n",
       "    }\n",
       "\n",
       "    .dataframe tbody tr th {\n",
       "        vertical-align: top;\n",
       "    }\n",
       "</style>\n",
       "<table border=\"1\" class=\"dataframe\">\n",
       "  <thead>\n",
       "    <tr style=\"text-align: right;\">\n",
       "      <th></th>\n",
       "      <th>Price</th>\n",
       "      <th>Rating</th>\n",
       "      <th>Review Votes</th>\n",
       "      <th>Reviews</th>\n",
       "    </tr>\n",
       "  </thead>\n",
       "  <tbody>\n",
       "    <tr>\n",
       "      <th>0</th>\n",
       "      <td>288.0</td>\n",
       "      <td>1</td>\n",
       "      <td>135</td>\n",
       "      <td>I bought 2 iPhones with this seller, both have...</td>\n",
       "    </tr>\n",
       "    <tr>\n",
       "      <th>1</th>\n",
       "      <td>288.0</td>\n",
       "      <td>1</td>\n",
       "      <td>285</td>\n",
       "      <td>I don't know what they called certified refurb...</td>\n",
       "    </tr>\n",
       "    <tr>\n",
       "      <th>2</th>\n",
       "      <td>288.0</td>\n",
       "      <td>1</td>\n",
       "      <td>148</td>\n",
       "      <td>I ordered the iPhone 6 64 gigabyte and looking...</td>\n",
       "    </tr>\n",
       "    <tr>\n",
       "      <th>3</th>\n",
       "      <td>288.0</td>\n",
       "      <td>1</td>\n",
       "      <td>181</td>\n",
       "      <td>box came empty</td>\n",
       "    </tr>\n",
       "    <tr>\n",
       "      <th>4</th>\n",
       "      <td>288.0</td>\n",
       "      <td>1</td>\n",
       "      <td>133</td>\n",
       "      <td>Dont waste your time! They sent me a locked ph...</td>\n",
       "    </tr>\n",
       "  </tbody>\n",
       "</table>\n",
       "</div>"
      ],
      "text/plain": [
       "   Price  Rating  Review Votes  \\\n",
       "0  288.0       1           135   \n",
       "1  288.0       1           285   \n",
       "2  288.0       1           148   \n",
       "3  288.0       1           181   \n",
       "4  288.0       1           133   \n",
       "\n",
       "                                             Reviews  \n",
       "0  I bought 2 iPhones with this seller, both have...  \n",
       "1  I don't know what they called certified refurb...  \n",
       "2  I ordered the iPhone 6 64 gigabyte and looking...  \n",
       "3                                     box came empty  \n",
       "4  Dont waste your time! They sent me a locked ph...  "
      ]
     },
     "execution_count": 14,
     "metadata": {},
     "output_type": "execute_result"
    }
   ],
   "source": [
    "import pandas as pd\n",
    "test = pd.DataFrame({'Price': all_prices,\n",
    "                     'Rating':all_stars,\n",
    "                     'Reviews': all_reviews,                    \n",
    "                     'Review Votes':all_votes})\n",
    "test.head()"
   ]
  },
  {
   "cell_type": "code",
   "execution_count": 16,
   "metadata": {
    "collapsed": false,
    "deletable": true,
    "editable": true
   },
   "outputs": [],
   "source": [
    "test.to_csv('./test.csv', encoding='utf-8')"
   ]
  },
  {
   "cell_type": "code",
   "execution_count": null,
   "metadata": {
    "collapsed": false,
    "deletable": true,
    "editable": true
   },
   "outputs": [],
   "source": [
    "url = \"https://www.amazon.com/Apple-iPhone-5C-16GB-White/product-reviews/B00O8EDU6U/ref=cm_cr_dp_d_show_all_top?ie=UTF8&reviewerType=avp_only_reviews\"\n",
    "#reviews, stars, votes, prices = get_reviews( url )\n",
    "s1 = get_reviews( url )"
   ]
  },
  {
   "cell_type": "code",
   "execution_count": 1,
   "metadata": {
    "collapsed": true,
    "deletable": true,
    "editable": true
   },
   "outputs": [],
   "source": [
    "import requests\n",
    "from bs4 import BeautifulSoup\n",
    "from retrying import retry\n",
    "import pandas as pd\n",
    "import os\n",
    "\n",
    "@retry\n",
    "def get_brand_links():\n",
    "    url = \"https://www.amazon.com/unlocked-cell-phones/b/ref=sv_cps_1?ie=UTF8&node=2407749011\"\n",
    "    response = requests.get(url)\n",
    "    soup = BeautifulSoup(response.text, 'lxml')\n",
    "    links = soup.find_all('div', attrs={\"class\":\"acsUxWidget\"})[2].find_all('a')\n",
    "    return links\n",
    "\n",
    "@retry\n",
    "def get_phone_link(link):\n",
    "    response = requests.get(link)\n",
    "    soup = BeautifulSoup(response.text, 'lxml')\n",
    "    links = soup.find('ul', {'id':'s-results-list-atf'}).find_all('a', attrs={'class':'a-link-normal s-access-detail-page s-color-twister-title-link a-text-normal'})\n",
    "    return links\n",
    "\n",
    "def check_length(lists):\n",
    "    l = len(lists[0])\n",
    "    for alist in lists:\n",
    "        if len(alist) != l:\n",
    "            return False\n",
    "    return True\n",
    "\n",
    "@retry\n",
    "def get_reviews(url):\n",
    "    response = requests.get(url)\n",
    "    soup = BeautifulSoup(response.text, 'lxml')\n",
    "    reviews = soup.find_all('div', attrs={'class':'a-row review-data'})\n",
    "    stars = soup.find('div', {'id':'cm_cr-review_list'}).find_all('i', attrs={'data-hook':'review-star-rating'})\n",
    "    \n",
    "    votes_parent = soup.find_all('span', attrs={'class':'cr-vote-buttons cr-vote-component'})    \n",
    "    votes = []\n",
    "    for item in votes_parent:\n",
    "        vote = item.find('span', attrs={'data-hook':'helpful-vote-statement'})\n",
    "        try:\n",
    "            if 'One' in vote.text.split():\n",
    "                votes.append(1)\n",
    "            else:\n",
    "                votes.append( int(vote.text.split()[0]) )\n",
    "        except:\n",
    "            votes.append(0)\n",
    "    \n",
    "    price = soup.find('span', {'class':'a-color-price arp-price'}).text\n",
    "    if check_length([reviews, stars, votes]):\n",
    "        return [tag.text for tag in reviews], \\\n",
    "               [int(tag.text.split('.')[0]) for tag in stars], \\\n",
    "               votes, \\\n",
    "               [float(price.strip('$'))]*len(reviews)\n",
    "    raise Exception('Lengths do not match in reviews, stars and votes!')\n",
    "    \n",
    "@retry\n",
    "def get_page_number(url):\n",
    "    response = requests.get(url)\n",
    "    soup = BeautifulSoup(response.text, 'lxml')\n",
    "    page_button = soup.find_all('li', attrs={'data-reftag':'cm_cr_arp_d_paging_btm', 'class':'page-button'})\n",
    "    page_num = page_button[-1].find('a')\n",
    "    return int(page_num.text)\n",
    "\n",
    "def save_data(brand, product_names, \n",
    "              reviews, stars, votes, prices,\n",
    "              path):\n",
    "    df = pd.DataFrame({'Brand': [brand]*len(prices),\n",
    "                       'Product_name': product_names,\n",
    "                       'Price': prices,\n",
    "                       'Rating': stars,\n",
    "                       'Reviews': reviews,                    \n",
    "                       'Review Votes': votes})\n",
    "    df.to_csv( os.path.join(path, '%s-%s.csv' %(brand,product_names[0])),\n",
    "               encoding = 'utf-8' )"
   ]
  },
  {
   "cell_type": "code",
   "execution_count": null,
   "metadata": {
    "collapsed": false,
    "deletable": true,
    "editable": true
   },
   "outputs": [
    {
     "name": "stdout",
     "output_type": "stream",
     "text": [
      "Apple\n",
      "Apple iPhone 6 16GB Factory Unlocked GSM 4G LTE Smartphone, Space Grey (Certified Refurbished)\n",
      "Apple iPhone 6S - 16GB GSM Unlocked - Rose (Certified Refurbished)\n",
      "Apple iPhone 5S 16GB Silver GSM Unlocked (Certified Refurbished)\n",
      "Apple iPhone 6 Plus 16GB Factory Unlocked GSM 4G LTE Smartphone, Space Gray (Certified Refurbished)\n",
      "Apple iPhone 6 16GB Factory Unlocked GSM 4G LTE Internal Smartphone - Space Gray\n",
      "Apple iPhone 5C 16GB White - Unlocked Cell Phones\n"
     ]
    }
   ],
   "source": [
    "brand_links = get_brand_links()\n",
    "brand_names = ['Apple',\n",
    "               'Asus',\n",
    "               'Samsung',\n",
    "               'LG',\n",
    "               'Alcatel',\n",
    "               'Huawei',\n",
    "               'BLU',\n",
    "               'Motorola',\n",
    "               'Sony',\n",
    "               'ZTE']\n",
    "brands = { a:b for a,b in zip(brand_names, brand_links) }\n",
    "\n",
    "path = './scrape_data'\n",
    "\n",
    "for brand in brand_names:\n",
    "    print brand\n",
    "    links = get_phone_link( brands[brand]['href'] )\n",
    "    for link in links:\n",
    "        product_name = link['title']\n",
    "        print product_name\n",
    "        if os.path.exists( os.path.join(path, '%s-%s.csv' %(brand,product_name)) ):\n",
    "            continue\n",
    "        all_reviews = []\n",
    "        all_stars = []\n",
    "        all_votes = []\n",
    "        all_prices = []\n",
    "        product_names = []\n",
    "        urlbase = link['href'].replace( '/dp/', '/product-reviews/' )\n",
    "        urladd = \"/ref=cm_cr_getr_d_paging_btm_%d?ie=UTF8&reviewerType=avp_only_reviews&pageNumber=%d\" %(1, 1)\n",
    "        page_num = get_page_number(urlbase+urladd)        \n",
    "        for i in range( 1, page_num ):\n",
    "            \"/ref=cm_cr_getr_d_paging_btm_%d?ie=UTF8&reviewerType=avp_only_reviews&pageNumber=%d\" %(i, i)\n",
    "            reviews, stars, votes, prices = get_reviews( urlbase+urladd )\n",
    "            all_reviews.extend(reviews)\n",
    "            all_stars.extend(stars)\n",
    "            all_votes.extend(votes)\n",
    "            all_prices.extend(prices)\n",
    "            product_names.extend( [product_name]*len(reviews) )\n",
    "        save_data(brand, product_names, \n",
    "                  all_reviews, all_stars, all_votes, all_prices,\n",
    "                  path)"
   ]
  },
  {
   "cell_type": "code",
   "execution_count": null,
   "metadata": {
    "collapsed": true,
    "deletable": true,
    "editable": true
   },
   "outputs": [],
   "source": []
  },
  {
   "cell_type": "code",
   "execution_count": null,
   "metadata": {
    "collapsed": true,
    "deletable": true,
    "editable": true
   },
   "outputs": [],
   "source": []
  }
 ],
 "metadata": {
  "kernelspec": {
   "display_name": "Python 2",
   "language": "python",
   "name": "python2"
  },
  "language_info": {
   "codemirror_mode": {
    "name": "ipython",
    "version": 2
   },
   "file_extension": ".py",
   "mimetype": "text/x-python",
   "name": "python",
   "nbconvert_exporter": "python",
   "pygments_lexer": "ipython2",
   "version": "2.7.13"
  }
 },
 "nbformat": 4,
 "nbformat_minor": 2
}
